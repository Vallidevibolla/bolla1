{
  "nbformat": 4,
  "nbformat_minor": 0,
  "metadata": {
    "colab": {
      "name": "tri_sss.ipynb",
      "provenance": []
    },
    "kernelspec": {
      "name": "python3",
      "display_name": "Python 3"
    },
    "language_info": {
      "name": "python"
    }
  },
  "cells": [
    {
      "cell_type": "code",
      "metadata": {
        "colab": {
          "base_uri": "https://localhost:8080/",
          "height": 279
        },
        "id": "_qclhhOTwHkU",
        "outputId": "a241a658-93a4-429f-8b1d-44c80a5fe3be"
      },
      "source": [
        "import numpy as np\n",
        "import matplotlib.pyplot as plt\n",
        "\n",
        "#Sides\n",
        "a = 4\n",
        "b = 3\n",
        "c = np.sqrt(a**2+b**2)\n",
        "\n",
        "\n",
        "#Triangle vertices\n",
        "D= np.array([0,b]) \n",
        "B = np.array([a,0]) \n",
        "A = np.array([0,0]) \n",
        "\n",
        "#Mid point of D,B\n",
        "C=np.array([a/2,b/2])\n",
        "\n",
        "\n",
        "\n",
        "#Generating all lines\n",
        "x_DB = line_gen(D,B)\n",
        "x_BA = line_gen(B,A)\n",
        "x_AD = line_gen(A,D)\n",
        "x_AC = line_gen(A,C)\n",
        "\n",
        "#Plotting all lines\n",
        "plt.plot(x_AB[0,:],x_AB[1,:],label='$AB$')\n",
        "plt.plot(x_BC[0,:],x_BC[1,:],label='$BC$')\n",
        "plt.plot(x_CA[0,:],x_CA[1,:],label='$CA$')\n",
        "plt.plot(x_CD[0,:],x_CD[1,:],label='$CD$')\n",
        "\n",
        "plt.plot(A[0], A[1], 'o')\n",
        "plt.text(A[0] * (1 + 0.05), A[1] * (1 - 0.1) , 'A')\n",
        "plt.plot(B[0], B[1], 'o')\n",
        "plt.text(B[0] * (1), B[1] * (1) , 'B')\n",
        "plt.plot(C[0], C[1], 'o')\n",
        "plt.text(C[0] * (1 + 0.05), C[1] * (1 - 0.1) , 'C')\n",
        "plt.plot(D[0], D[1], 'o')\n",
        "plt.text(D[0] * (1 + 0.05), D[1] * (1 - 0.1) , 'D')\n",
        "\n",
        "\n",
        "plt.xlabel('$x$')\n",
        "plt.ylabel('$y$')\n",
        "plt.legend(loc='best')\n",
        "plt.grid() # minor\n",
        "plt.axis('equal')\n",
        "\n",
        "\n",
        "plt.show()"
      ],
      "execution_count": null,
      "outputs": [
        {
          "output_type": "display_data",
          "data": {
            "image/png": "[encoded data removed]",
            "text/plain": [
              "<Figure size 432x288 with 1 Axes>"
            ]
          },
          "metadata": {
            "tags": [],
            "needs_background": "light"
          }
        }
      ]
    }
  ]
}